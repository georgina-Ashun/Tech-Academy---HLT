{
 "cells": [
  {
   "cell_type": "markdown",
   "metadata": {},
   "source": [
    "Write a program that allows user to enter two numbers, and operator and then\n",
    "\n",
    "completes the calculation."
   ]
  },
  {
   "cell_type": "code",
   "execution_count": 2,
   "metadata": {},
   "outputs": [],
   "source": [
    "\n",
    "# Task 1\n",
    "# Write a program which will allow user to enter two numbers\n",
    "first_number = int(input(\"Enter the first number: \"))\n",
    "second_number = int(input(\"Enter the second number: \"))\n",
    "operator = (input(\"Enter the opertor: \")) "
   ]
  },
  {
   "cell_type": "code",
   "execution_count": 3,
   "metadata": {},
   "outputs": [
    {
     "name": "stdout",
     "output_type": "stream",
     "text": [
      "3\n",
      "4\n",
      "12\n"
     ]
    }
   ],
   "source": [
    "print(first_number)\n",
    "print(second_number)\n",
    "print(first_number * second_number)"
   ]
  },
  {
   "cell_type": "code",
   "execution_count": 18,
   "metadata": {},
   "outputs": [
    {
     "name": "stdout",
     "output_type": "stream",
     "text": [
      " the calculation of the two chosen numbers is equal to 4\n"
     ]
    }
   ],
   "source": [
    "\n",
    "\n",
    "#  program allowing user to choose an operator\n",
    "\n",
    "add = input(\"number1 + number2\")\n",
    "sub = input(\"number1 - number2\")\n",
    "div = input(\"number1 / number2\")\n",
    "multiply = input(\"number1 * number2\")\n",
    "\n",
    "def calculation():\n",
    " if add: \n",
    "     input(\"first_number + second_number\")\n",
    " elif sub: \n",
    "     input(\"first_number - second_number\")\n",
    " elif div: \n",
    "    input(\"first_number / second_number\")\n",
    " elif multiply: \n",
    "    input(\"first_number * second_number\")\n",
    "\n",
    "\n",
    "print(\" the calculation of the two chosen numbers is equal to \" + multiply)\n",
    "\n",
    "\n",
    "\n",
    "calculation()\n",
    "\n",
    "\n"
   ]
  },
  {
   "cell_type": "markdown",
   "metadata": {},
   "source": [
    "Write a program that asks a user for their favourite number between 1 and 100 and then\n",
    "\n",
    "tells them a joke based on the number. You should use a minimum of 3 jokes\n",
    "\n",
    "Follow the instructions below:\n",
    "\n",
    "1. Ask the user to pick a number and store against variable\n",
    "\n",
    "2. 2. Create an IF statement which uses logical operators which prints out a joke\n",
    "\n",
    "based on the number the user picked"
   ]
  },
  {
   "cell_type": "code",
   "execution_count": 26,
   "metadata": {},
   "outputs": [
    {
     "name": "stdout",
     "output_type": "stream",
     "text": [
      " My favourite number  between 1 and 100.\n",
      "Know about the restaurant called Karma? It has no menu. You get what you deserve\n"
     ]
    }
   ],
   "source": [
    "# Task 2\n",
    "# program allowing user to select their favourite number between 1 and 100 \n",
    "# user gets a joke depending on the number selected.\n",
    "\n",
    "import random\n",
    "my_favourite_number = random.randint(1, 100)\n",
    "print(\" My favourite number  between 1 and 100.\")\n",
    "jokes = int(input(\"What is your favourite number?\"))\n",
    "\n",
    "#  Using 3 jokes.\n",
    "\n",
    "if my_favourite_number == 20:\n",
    "    print(\"I invented a new word. Guess what? It's Plagiarism\")\n",
    "elif my_favourite_number > 20:\n",
    "    print(\"Know about the restaurant called Karma? It has no menu. You get what you deserve\")\n",
    "else:\n",
    "    my_favourite_number < 20\n",
    "    print(\"Why did the M&M go to school? It wanted to be a Smartie.\")"
   ]
  },
  {
   "cell_type": "markdown",
   "metadata": {},
   "source": [
    "Write a program that simulates the behaviour of a basic ATM."
   ]
  },
  {
   "cell_type": "code",
   "execution_count": 21,
   "metadata": {},
   "outputs": [
    {
     "name": "stdout",
     "output_type": "stream",
     "text": [
      "Welcome to Northen Frock\n",
      "You entered you pin Correctly\n",
      "\n",
      "Please Press 1 For Your Balance\n",
      "\n",
      "Please Press 2 To Make a Withdrawl\n",
      "\n",
      "Please Press 3 To Pay in\n",
      "\n",
      "Please Press 4 To Return Card\n",
      "\n"
     ]
    },
    {
     "ename": "TypeError",
     "evalue": "can only concatenate str (not \"float\") to str",
     "output_type": "error",
     "traceback": [
      "\u001b[1;31m---------------------------------------------------------------------------\u001b[0m",
      "\u001b[1;31mTypeError\u001b[0m                                 Traceback (most recent call last)",
      "\u001b[1;32mc:\\Users\\Gynna\\Downloads\\python 2 HLT to submit.ipynb Cell 8\u001b[0m in \u001b[0;36m<cell line: 6>\u001b[1;34m()\u001b[0m\n\u001b[0;32m     <a href='vscode-notebook-cell:/c%3A/Users/Gynna/Downloads/python%202%20HLT%20to%20submit.ipynb#X10sZmlsZQ%3D%3D?line=14'>15</a>\u001b[0m option \u001b[39m=\u001b[39m \u001b[39mint\u001b[39m(\u001b[39minput\u001b[39m(\u001b[39m'\u001b[39m\u001b[39mWhat Would you like to choose?\u001b[39m\u001b[39m'\u001b[39m))\n\u001b[0;32m     <a href='vscode-notebook-cell:/c%3A/Users/Gynna/Downloads/python%202%20HLT%20to%20submit.ipynb#X10sZmlsZQ%3D%3D?line=16'>17</a>\u001b[0m \u001b[39mif\u001b[39;00m option \u001b[39m==\u001b[39m \u001b[39m1\u001b[39m:\n\u001b[1;32m---> <a href='vscode-notebook-cell:/c%3A/Users/Gynna/Downloads/python%202%20HLT%20to%20submit.ipynb#X10sZmlsZQ%3D%3D?line=17'>18</a>\u001b[0m     \u001b[39mprint\u001b[39m(\u001b[39m\"\u001b[39;49m\u001b[39mYour Balance is\u001b[39;49m\u001b[39m\"\u001b[39;49m \u001b[39m+\u001b[39;49m balance,\u001b[39m'\u001b[39m\u001b[39m\\n\u001b[39;00m\u001b[39m'\u001b[39m \u001b[39m\"\u001b[39m\u001b[39mthe amount available for withdrawal is\u001b[39m\u001b[39m\"\u001b[39m \u001b[39m+\u001b[39m balance )\n\u001b[0;32m     <a href='vscode-notebook-cell:/c%3A/Users/Gynna/Downloads/python%202%20HLT%20to%20submit.ipynb#X10sZmlsZQ%3D%3D?line=18'>19</a>\u001b[0m     restart \u001b[39m=\u001b[39m \u001b[39minput\u001b[39m(\u001b[39m'\u001b[39m\u001b[39mWould You you like to go back? \u001b[39m\u001b[39m'\u001b[39m)\n\u001b[0;32m     <a href='vscode-notebook-cell:/c%3A/Users/Gynna/Downloads/python%202%20HLT%20to%20submit.ipynb#X10sZmlsZQ%3D%3D?line=19'>20</a>\u001b[0m     \u001b[39mif\u001b[39;00m restart \u001b[39min\u001b[39;00m (\u001b[39m'\u001b[39m\u001b[39mn\u001b[39m\u001b[39m'\u001b[39m,\u001b[39m'\u001b[39m\u001b[39mNO\u001b[39m\u001b[39m'\u001b[39m,\u001b[39m'\u001b[39m\u001b[39mno\u001b[39m\u001b[39m'\u001b[39m,\u001b[39m'\u001b[39m\u001b[39mN\u001b[39m\u001b[39m'\u001b[39m):\n",
      "\u001b[1;31mTypeError\u001b[0m: can only concatenate str (not \"float\") to str"
     ]
    }
   ],
   "source": [
    "# print main menu\n",
    "print('Welcome to Northen Frock')\n",
    "restart=('Y')\n",
    "chances = 3\n",
    "balance = 50.00\n",
    "while chances >= 0:\n",
    "    pin = int(input('Please Enter You 4 Digit Pin: '))\n",
    "    if pin == (1234):\n",
    "        print('You entered your pin Correctly\\n')\n",
    "        while restart not in ('n','NO','no','N'):\n",
    "            print('Please Press 1 For Your Balance\\n')\n",
    "            print('Please Press 2 To Make a Withdrawl\\n')\n",
    "            print('Please Press 3 To Pay in\\n')\n",
    "            print('Please Press 4 To Return Card\\n')\n",
    "            option = int(input('What Would you like to choose?'))\n",
    "\n",
    "            if option == 1:\n",
    "                print(\"Your Balance is\" + balance,'\\n' \"the amount available for withdrawal is\" + balance )\n",
    "                restart = input('Would You you like to go back? ')\n",
    "                if restart in ('n','NO','no','N'):\n",
    "                    print('Thank You')\n",
    "                    break\n",
    "            elif option == 2:\n",
    "                option2 = ('y')\n",
    "                withdrawal = float(input('How Much Would you like to withdraw? \\nÂ£10/Â£20/Â£40/Â£60/Â£80/Â£100 for other enter 1: '))\n",
    "                if withdrawal in [10, 20, 40, 60, 80, 100]:\n",
    "                    balance = balance - withdrawl\n",
    "                    print ('\\nYour Balance is now Â£',balance)\n",
    "                    restart = input('Would You you like to go back? ')\n",
    "                    if restart in ('n','NO','no','N'):\n",
    "                        print('Thank You')\n",
    "                        break\n",
    "                elif withdrawal != [10, 20, 40, 60, 80, 100]:\n",
    "                    print('Invalid Amount, Please Re-try\\n')\n",
    "                    restart = ('y')\n",
    "                elif withdrawal == 1:\n",
    "                    withdrawal = float(input('Please Enter Desired amount:'))    \n",
    "\n",
    "            elif option == 3:\n",
    "                Pay_in = float(input('How Much Would You Like To Pay In? '))\n",
    "                balance = balance + Pay_in\n",
    "                print ('\\nYour Balance is now Â£',balance)\n",
    "                restart = input('Would You you like to go back? ')\n",
    "                if restart in ('n','NO','no','N'):\n",
    "                    print('Thank You')\n",
    "                    break\n",
    "            elif option == 4:\n",
    "                print('Please wait whilst your card is Returned...\\n')\n",
    "                print('Thank you for you service')\n",
    "                break\n",
    "            else:\n",
    "                print('Please Enter a correct number. \\n')\n",
    "                restart = ('y')\n",
    "    elif pin != ('1234'):\n",
    "        print('Incorrect Password')\n",
    "        chances = chances - 1\n",
    "        if chances == 0:\n",
    "            print('\\nNo more tries')\n",
    "            break\n",
    "\n",
    "        "
   ]
  },
  {
   "cell_type": "markdown",
   "metadata": {},
   "source": [
    "Task 4"
   ]
  },
  {
   "cell_type": "code",
   "execution_count": 5,
   "metadata": {},
   "outputs": [
    {
     "name": "stdout",
     "output_type": "stream",
     "text": [
      "['strawberry', 'apple', 'mango']\n",
      "apple\n"
     ]
    }
   ],
   "source": [
    "#Creates a list of three fruits:\n",
    "fruits = [\"strawberry\", \"apple\",  \"mango\"]\n",
    "# Outputs all the fruits in the list\n",
    "print (fruits)\n",
    "# Outputs the second fruit in the list\n",
    "print(fruits[1])"
   ]
  },
  {
   "cell_type": "code",
   "execution_count": 40,
   "metadata": {},
   "outputs": [
    {
     "name": "stdout",
     "output_type": "stream",
     "text": [
      "{'mango', 'kiwi', 'banana'}\n",
      "{'mango', 'kiwi', 'apple', 'banana'}\n",
      "{'mango', 'kiwi', 'apple', 'banana'}\n"
     ]
    }
   ],
   "source": [
    "#Create a set of three fruits:\n",
    "#Outputs all the fruits in the set\n",
    "fruits = {\"mango\",\"banana\",\"kiwi\"}\n",
    "print(fruits)\n",
    "\n",
    "# Adds a new fruit to the set\n",
    "fruits = {\"mango\", \"banana\", \"kiwi\"}\n",
    "fruits.add (\"apple\")\n",
    "\n",
    "# Outputs all the fruits in the set\n",
    "print (fruits)\n",
    "\n",
    "# Tries to add a repeat of a fruit to the set\n",
    "fruits.add(\"banana\")\n",
    "\n",
    "#Outputs all the fruits in the set\n",
    "print(fruits)\n",
    "# output indicates that sets cannot have duplicates"
   ]
  },
  {
   "cell_type": "code",
   "execution_count": 64,
   "metadata": {},
   "outputs": [
    {
     "name": "stdout",
     "output_type": "stream",
     "text": [
      "{'banana': 40, 'mango': 20, 'grapes': 30}\n",
      "30\n",
      "True\n",
      "True\n",
      "True\n",
      "True\n",
      "True\n",
      "True\n"
     ]
    }
   ],
   "source": [
    "#Create a dictionary of three fruits with a corresponding price:\n",
    "# Outputs all the fruits in the dictionary\n",
    "fruits = {'banana' :40, 'mango':20, 'grapes':30}\n",
    "print(fruits)\n",
    "\n",
    "# Outputs the price of the second fruit in the dictionary\n",
    "print(fruits['grapes'])\n",
    "\n",
    "# For a given fruit output its price if it is the dictionary or a message if it is not\n",
    "fruits = {'banana' :40, 'mango':20, 'grapes':30}\n",
    "for x in 'banana':\n",
    " if x == 40 :\n",
    "    print(banana)\n",
    " else :\n",
    "   print(40 not in fruits)\n",
    "  "
   ]
  },
  {
   "cell_type": "markdown",
   "metadata": {},
   "source": []
  }
 ],
 "metadata": {
  "kernelspec": {
   "display_name": "Python 3.10.6 64-bit (windows store)",
   "language": "python",
   "name": "python3"
  },
  "language_info": {
   "codemirror_mode": {
    "name": "ipython",
    "version": 3
   },
   "file_extension": ".py",
   "mimetype": "text/x-python",
   "name": "python",
   "nbconvert_exporter": "python",
   "pygments_lexer": "ipython3",
   "version": "3.10.6"
  },
  "orig_nbformat": 4,
  "vscode": {
   "interpreter": {
    "hash": "70de8fb0f666d7d26395b890b58b1f0488b859c99dbf02eb86951344fe727d3f"
   }
  }
 },
 "nbformat": 4,
 "nbformat_minor": 2
}
