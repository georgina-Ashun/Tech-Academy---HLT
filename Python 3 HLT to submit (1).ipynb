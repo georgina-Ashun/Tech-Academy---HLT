{
 "cells": [
  {
   "cell_type": "code",
   "execution_count": 4,
   "metadata": {},
   "outputs": [
    {
     "name": "stdout",
     "output_type": "stream",
     "text": [
      "The value of cost is: 2000\n",
      "The value of cost is: 1800.0\n",
      "The value of cost is: 1620.0\n",
      "The value of cost is: 1458.0\n",
      "The value of cost is: 1312.2\n",
      "The value of cost is: 1180.98\n",
      "The value of cost is: 1062.882\n"
     ]
    }
   ],
   "source": [
    "# Task 1\n",
    "# A motorbike costs £2000 and loses 10% of its value every year. Print the bike’s value each year until it falls below £1000\n",
    "x = False\n",
    "cost = 2000\n",
    "while x == False:\n",
    " print(\"The value of cost is:\", cost)\n",
    " cost = cost * 0.9\n",
    "# Using a loop, print the value of the bike every following year until it falls below £1000.\n",
    " if cost < 1000:\n",
    "  x = True"
   ]
  },
  {
   "cell_type": "code",
   "execution_count": 84,
   "metadata": {},
   "outputs": [
    {
     "name": "stdout",
     "output_type": "stream",
     "text": [
      "Number of vowels: 3\n"
     ]
    }
   ],
   "source": [
    "# Task 2: iterating through a string for number of vowels\n",
    "\n",
    "fruits = [\"Apple\", \"Orange\", \"Banana\", \"Pear\", \"Peach\", \"Strawberry\", \"Cherry\", \"Acai\"]\n",
    "\n",
    "for fruit in fruits :\n",
    "\n",
    "  vowels = 0\n",
    "\n",
    "  for char in fruit:\n",
    "        if char in \"aeiouAEIOU\":\n",
    "           vowels = vowels+1\n",
    "  \n",
    "\n",
    "print (\"Number of vowels: \"+ str(vowels))\n",
    "\n"
   ]
  },
  {
   "cell_type": "code",
   "execution_count": 86,
   "metadata": {},
   "outputs": [
    {
     "name": "stdout",
     "output_type": "stream",
     "text": [
      "The volume is:  12.0\n"
     ]
    }
   ],
   "source": [
    "# Task 3: Calculating volume\n",
    "a = float(input(\"Enter the width Number:\")) \n",
    "b = float(input(\"Enter depth Number: \")) \n",
    "c = float(input(\"Enter Height Number: \")) \n",
    "volume = a*b*c \n",
    "print (\"The volume is: \", volume)"
   ]
  },
  {
   "cell_type": "code",
   "execution_count": 87,
   "metadata": {},
   "outputs": [],
   "source": [
    "# Creating a function to return the volume and output the volume in the main program\n",
    "\n",
    "def vol (a,b,c) :\n",
    "    return (a*b*c)\n"
   ]
  },
  {
   "cell_type": "code",
   "execution_count": 1,
   "metadata": {},
   "outputs": [
    {
     "name": "stdout",
     "output_type": "stream",
     "text": [
      "The length of the hypotenuse c is 6.708203932499369\n"
     ]
    }
   ],
   "source": [
    "# TASK 4\n",
    "# Creating program that calculates the lengths of sides of a triangle using Pythagoras’s Theorem.\n",
    "import math\n",
    "a = float(input(\"Give side a: \"))\n",
    "b = float(input(\"Give side b: \"))\n",
    "c = math.sqrt(a ** 2 + b ** 2)\n",
    "print(f\"The length of the hypotenuse c is {c}\")"
   ]
  },
  {
   "cell_type": "code",
   "execution_count": 4,
   "metadata": {},
   "outputs": [
    {
     "name": "stdout",
     "output_type": "stream",
     "text": [
      "Pythagorean theorem calculator! Calculate your triangle sides.\n",
      "Assume the sides are a, b, c and c is the hypotenuse (the side opposite the right angle\n",
      "Invalid input\n"
     ]
    }
   ],
   "source": [
    "# Creating a menu for Pythagoras’ Calculator\n",
    "\n",
    "import math\n",
    "\n",
    "\n",
    "side = input(\"Give the side you want to solve for (a, b, or c): \")\n",
    "\n",
    "print('Pythagorean theorem calculator! Calculate your triangle sides.')\n",
    "print('Assume the sides are a, b, c and c is the hypotenuse (the side opposite the right angle')\n",
    "formula = input('Which side (a, b, c) do you wish to calculate? side> ')\n",
    "\n",
    "\n",
    "# To find a given b and c\n",
    "\n",
    "if side == \"a\":\n",
    "    b = float(input(\"Give side b: \"))\n",
    "    c = float(input(\"Give hypotenuse c: \"))\n",
    "    a = math.sqrt(c ** 2 - b ** 2)\n",
    "    print(f\"The length of the side a is {a}\")\n",
    "\n",
    "# To find b given a and c\n",
    "    \n",
    "elif side == \"b\":\n",
    "    a = float(input(\"Give side a: \"))\n",
    "    c = float(input(\"Give hypotenuse c: \"))\n",
    "    b = math.sqrt(c ** 2 - a ** 2)\n",
    "    print(f\"The length of the side b is {b}\")\n",
    "\n",
    "# To find c given a and b\n",
    "elif side == \"c\":\n",
    "    a = float(input(\"Give side a: \"))\n",
    "    b = float(input(\"Give side b: \"))\n",
    "    c = math.sqrt(a ** 2 + b ** 2)\n",
    "    print(f\"The length of the hypotenuse c is {c}\")\n",
    "else:\n",
    "    print(\"Invalid input\")"
   ]
  },
  {
   "cell_type": "code",
   "execution_count": 9,
   "metadata": {},
   "outputs": [
    {
     "ename": "SyntaxError",
     "evalue": "invalid syntax (1480989762.py, line 4)",
     "output_type": "error",
     "traceback": [
      "\u001b[1;36m  File \u001b[1;32m\"C:\\Users\\Gynna\\AppData\\Local\\Temp\\ipykernel_14328\\1480989762.py\"\u001b[1;36m, line \u001b[1;32m4\u001b[0m\n\u001b[1;33m    print(\"Print the length of b and c is:  '\\n' the length of a is \"a\" )\u001b[0m\n\u001b[1;37m                                                                     ^\u001b[0m\n\u001b[1;31mSyntaxError\u001b[0m\u001b[1;31m:\u001b[0m invalid syntax\n"
     ]
    }
   ],
   "source": [
    " # If ‘1’ is entered, prompt for the length of sides: b and c, calculate the length of side: a and print the answer; Reprint the menu.\n",
    " \n",
    " if option == 1:\n",
    "                print(\"Print the length of b and c is:  '\\n' the length of a is \"a\" )\n",
    "                restart = input('Which side (a, b, c) do you wish to calculate?'))\n",
    "                if restart in ('n','NO','no','N'):\n",
    "                    print('Thank You')\n",
    "                    break\n",
    "\n",
    " #If ‘2’ is entered, prompt for the length of sides: a and c, calculate the length of side: b and print the answer; Reprint the menu.               \n",
    "            elif option == 2:\n",
    "                print(\"Print the length of a and c is: '\\n' the length of b is \"b\")\n",
    "                restart = input('Which side (a, b, c) do you wish to calculate?'))\n",
    "                if restart in ('n','NO','no','N'):\n",
    "                    print('Thank You')\n",
    "                    break\n",
    "\n",
    "# If ‘3’ is entered, prompt for the length of sides: a and b, calculate the length of side: c and print the answer; Reprint the menu.             \n",
    "\n",
    "            elif option == 3:\n",
    "                print(\"Print the length of a and b is: '\\n' the length of c is \"c\" )\n",
    "                restart = input('Which side (a, b, c) do you wish to calculate?'))\n",
    "                if restart in ('n','NO','no','N'):\n",
    "                    print('Thank You')\n",
    "                    break\n",
    "\n",
    "# If ‘4’ is entered, print a goodbye message, and exit the program.              \n",
    "\n",
    "            elif option == 4:\n",
    "                print('Goodbye!')\n",
    "                break\n",
    "\n",
    "#If another value is entered, print an error message and print the menu again.\n",
    "            else:\n",
    "                print('Error! Please Enter a correct number.')\n",
    "                restart = input('Which side (a, b, c) do you wish to calculate?'))\n",
    "                if restart in ('n','NO','no','N'):\n",
    "                    print('Thank You')\n",
    "            break\n",
    "\t"
   ]
  }
 ],
 "metadata": {
  "kernelspec": {
   "display_name": "Python 3.7.9 64-bit (microsoft store)",
   "language": "python",
   "name": "python3"
  },
  "language_info": {
   "codemirror_mode": {
    "name": "ipython",
    "version": 3
   },
   "file_extension": ".py",
   "mimetype": "text/x-python",
   "name": "python",
   "nbconvert_exporter": "python",
   "pygments_lexer": "ipython3",
   "version": "3.7.9"
  },
  "orig_nbformat": 4,
  "vscode": {
   "interpreter": {
    "hash": "9ec8e6c9e5261c1abe98ead4475bb5c534d730b5bee060bddacccbe67c1f24ab"
   }
  }
 },
 "nbformat": 4,
 "nbformat_minor": 2
}
