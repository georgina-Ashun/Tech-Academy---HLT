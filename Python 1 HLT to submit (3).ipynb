{
 "cells": [
  {
   "cell_type": "markdown",
   "metadata": {},
   "source": [
    "TASK 1 - Favourite Meal\n",
    "Write a program that allows user to enter their favourite starter, main course, dessert and drink. \n",
    "\n",
    " \n",
    "Concatenate these and output a message which says – “Your favourite meal is  ………with a glass of….” \n",
    "\n",
    " \n",
    "\n",
    "Follow the instructions below: \n",
    "\n",
    " \n",
    "\n",
    "Create 4 variables, one named starter, one named main, one named dessert and one named drink. \n",
    "\n",
    "Concatenate these into the output message using + to combine the strings \n",
    "\n",
    " "
   ]
  },
  {
   "cell_type": "code",
   "execution_count": 6,
   "metadata": {},
   "outputs": [],
   "source": [
    "favourite_meal = \"leek soup\", \"grilled jerk chicken and fried rice\", \"tiramissu\", \"coke\"\n",
    "\n",
    "\n"
   ]
  },
  {
   "cell_type": "code",
   "execution_count": 17,
   "metadata": {},
   "outputs": [],
   "source": [
    "starter =  \"leek soup\"\n",
    "maincourse =\"grilled jerk chicken and fried rice\"\n",
    "dessert = \"tiramissu\"\n",
    "drink = \"coke\""
   ]
  },
  {
   "cell_type": "code",
   "execution_count": 18,
   "metadata": {},
   "outputs": [
    {
     "name": "stdout",
     "output_type": "stream",
     "text": [
      "('leek soup', 'grilled jerk chicken and fried rice', 'tiramissu', 'coke')\n"
     ]
    }
   ],
   "source": [
    "print(favourite_meal)"
   ]
  },
  {
   "cell_type": "code",
   "execution_count": 21,
   "metadata": {},
   "outputs": [
    {
     "name": "stdout",
     "output_type": "stream",
     "text": [
      "Your favourite meal is leek soup , grilled jerk chicken and fried rice, tiramissu, with a glass of coke.\n"
     ]
    }
   ],
   "source": [
    "\n",
    "print(\"Your favourite meal is\", starter +\" ,\"  + \" \" + maincourse + \",\" + \" \" + dessert +  \",\" + \" \"  \"with a glass of\" + \" \" + drink + \".\")\n",
    "\n"
   ]
  },
  {
   "cell_type": "markdown",
   "metadata": {},
   "source": [
    " \n",
    "\n",
    "Create a few programs to complete the following calculations: \n",
    "\n",
    "1) Takes two numbers from user and outputs a subtraction \n",
    "\n",
    "2) Takes two numbers from user and outputs a multiplication \n",
    "\n",
    "3) Takes two numbers from user and outputs a division \n",
    "\n",
    " \n",
    "Follow the instructions below: \n",
    "\n",
    " \n",
    "\n",
    "Create 2 variables which enable a user to input a number. \n",
    "\n",
    "Then subtract the 2 numbers from each other. \n",
    "\n",
    "Repeat steps 1 and 2 to carry out the calculations for multiplication and division.  \n",
    "\n",
    "  "
   ]
  },
  {
   "cell_type": "code",
   "execution_count": 32,
   "metadata": {},
   "outputs": [
    {
     "name": "stdout",
     "output_type": "stream",
     "text": [
      "Enter operation to perform?\n"
     ]
    }
   ],
   "source": [
    "number_one = int(input(\"First Number Entered: \"))\n",
    "number_two = int(input(\"Second Number Entered: \"))\n",
    "\n",
    "print(\"Enter operation to perform?\")\n"
   ]
  },
  {
   "cell_type": "code",
   "execution_count": 30,
   "metadata": {},
   "outputs": [],
   "source": [
    "character = input(\"Enter any of these characters -,*,/: \")\n",
    "\n"
   ]
  },
  {
   "cell_type": "code",
   "execution_count": 33,
   "metadata": {},
   "outputs": [
    {
     "name": "stdout",
     "output_type": "stream",
     "text": [
      "12 - 2 : 10\n"
     ]
    }
   ],
   "source": [
    "\n",
    "\n",
    "if character == '-':\n",
    "    result = number_one - number_two\n",
    "elif character == '*':\n",
    "    result = number_one * number_two\n",
    "elif character == '/':\n",
    "    result = number_one / number_two\n",
    "else:\n",
    "    print(\"Character used is not recognised!\")\n",
    "\n",
    "print(number_one, character , number_two, \":\", result)"
   ]
  },
  {
   "cell_type": "markdown",
   "metadata": {},
   "source": [
    " Write code that will display the joke “What do you call a bear with no teeth?” and on the next line display the answer “A gummy bear!” "
   ]
  },
  {
   "cell_type": "code",
   "execution_count": 40,
   "metadata": {},
   "outputs": [
    {
     "name": "stdout",
     "output_type": "stream",
     "text": [
      "What do you call a bear with no teeth?\n",
      "A gummy bear!\n"
     ]
    }
   ],
   "source": [
    "print(\"What do you call a bear with no teeth?\\nA gummy bear!\")"
   ]
  },
  {
   "cell_type": "code",
   "execution_count": null,
   "metadata": {},
   "outputs": [],
   "source": [
    "Create a program that: \n",
    "\n",
    "Asks the user for two numbers \n",
    "\n",
    "Multiples the numbers together \n",
    "\n",
    "Prints the answer as both an integer and a float "
   ]
  },
  {
   "cell_type": "code",
   "execution_count": 44,
   "metadata": {},
   "outputs": [
    {
     "name": "stdout",
     "output_type": "stream",
     "text": [
      "20\n",
      "20.0\n"
     ]
    }
   ],
   "source": [
    "number_one = int(input(\"First Number Entered: \"))\n",
    "number_two = int(input(\"Second Number Entered: \"))\n",
    "\n",
    "print(int(number_one * number_two))\n",
    "print(float(number_one * number_two))\n"
   ]
  },
  {
   "cell_type": "markdown",
   "metadata": {},
   "source": [
    "\n",
    "Modify a string which you have created to do the following built-in methods :  \n",
    "Replace ; Upper case; Split  \n",
    "Follow the instructions below: \n",
    "\n",
    "Create a string and store it against a variable name \n",
    "\n",
    "Use replace(), upper() and split to modify your string "
   ]
  },
  {
   "cell_type": "code",
   "execution_count": 82,
   "metadata": {},
   "outputs": [],
   "source": [
    "my_name = \"Gina Ashun\"  \n"
   ]
  },
  {
   "cell_type": "code",
   "execution_count": 83,
   "metadata": {},
   "outputs": [
    {
     "data": {
      "text/plain": [
       "'Georgina Ashun'"
      ]
     },
     "execution_count": 83,
     "metadata": {},
     "output_type": "execute_result"
    }
   ],
   "source": [
    "my_name.replace(\"Gina\" ,\"Georgina\")"
   ]
  },
  {
   "cell_type": "code",
   "execution_count": 84,
   "metadata": {},
   "outputs": [
    {
     "data": {
      "text/plain": [
       "'GINA ASHUN'"
      ]
     },
     "execution_count": 84,
     "metadata": {},
     "output_type": "execute_result"
    }
   ],
   "source": [
    "my_name.upper()"
   ]
  },
  {
   "cell_type": "code",
   "execution_count": 85,
   "metadata": {},
   "outputs": [
    {
     "data": {
      "text/plain": [
       "['Gina', 'Ashun']"
      ]
     },
     "execution_count": 85,
     "metadata": {},
     "output_type": "execute_result"
    }
   ],
   "source": [
    "my_name.split()"
   ]
  },
  {
   "cell_type": "markdown",
   "metadata": {},
   "source": [
    "Stretch\n",
    "Ask for the total price of a bill, then ask how many dinners there are. Divide the total bill by the number of diners and show how much each person should pay. "
   ]
  },
  {
   "cell_type": "code",
   "execution_count": 89,
   "metadata": {},
   "outputs": [
    {
     "name": "stdout",
     "output_type": "stream",
     "text": [
      "10\n"
     ]
    }
   ],
   "source": [
    "def total_price():\n",
    "    total_price = int(input(\"What is the total bill?: \"))\n",
    "    total_diners = int(input (\"How many diners are there?: \"))\n",
    "\n",
    "    return total_price/total_diners\n",
    "\n",
    "print(int(total_price()))"
   ]
  },
  {
   "cell_type": "markdown",
   "metadata": {},
   "source": [
    "Ask for the radius and the depth of a cylinder and work out the total volume (circle area*depth) rounded to three decimal places. (You will need to import the math library and look up the function for rounding decimals) "
   ]
  },
  {
   "cell_type": "code",
   "execution_count": null,
   "metadata": {},
   "outputs": [],
   "source": [
    "\n",
    "# The volume of a cylinder\n",
    " \n",
    "V = pi * r^2 * h   \n",
    "# Where V = volume; r = radius; and h = height.\n",
    "\n",
    "\n",
    "r = sqrt( V / (pi*h) )\n"
   ]
  }
 ],
 "metadata": {
  "kernelspec": {
   "display_name": "Python 3.7.9 64-bit (windows store)",
   "language": "python",
   "name": "python3"
  },
  "language_info": {
   "codemirror_mode": {
    "name": "ipython",
    "version": 3
   },
   "file_extension": ".py",
   "mimetype": "text/x-python",
   "name": "python",
   "nbconvert_exporter": "python",
   "pygments_lexer": "ipython3",
   "version": "3.7.9"
  },
  "orig_nbformat": 4,
  "vscode": {
   "interpreter": {
    "hash": "9ec8e6c9e5261c1abe98ead4475bb5c534d730b5bee060bddacccbe67c1f24ab"
   }
  }
 },
 "nbformat": 4,
 "nbformat_minor": 2
}
