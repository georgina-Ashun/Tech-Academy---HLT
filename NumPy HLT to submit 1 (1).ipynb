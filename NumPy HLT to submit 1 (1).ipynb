{
 "cells": [
  {
   "cell_type": "code",
   "execution_count": 6,
   "metadata": {},
   "outputs": [
    {
     "name": "stdout",
     "output_type": "stream",
     "text": [
      "Collecting numpy\n",
      "  Downloading numpy-1.23.2-cp310-cp310-win_amd64.whl (14.6 MB)\n",
      "     -------------------------------------- 14.6/14.6 MB 470.1 kB/s eta 0:00:00\n",
      "Installing collected packages: numpy\n",
      "Successfully installed numpy-1.23.2\n",
      "Note: you may need to restart the kernel to use updated packages.\n"
     ]
    },
    {
     "name": "stderr",
     "output_type": "stream",
     "text": [
      "  WARNING: The script f2py.exe is installed in 'C:\\Users\\Gynna\\AppData\\Local\\Packages\\PythonSoftwareFoundation.Python.3.10_qbz5n2kfra8p0\\LocalCache\\local-packages\\Python310\\Scripts' which is not on PATH.\n",
      "  Consider adding this directory to PATH or, if you prefer to suppress this warning, use --no-warn-script-location.\n"
     ]
    }
   ],
   "source": [
    "%pip install numpy"
   ]
  },
  {
   "cell_type": "code",
   "execution_count": 7,
   "metadata": {},
   "outputs": [],
   "source": [
    "import numpy as np"
   ]
  },
  {
   "cell_type": "markdown",
   "metadata": {},
   "source": [
    "TASK 1\n",
    "Create a 1D array of numbers from 0 to 9\n",
    "2. Convert a 1D array to a 2D array with 2 rows\n",
    "3. Write a NumPy program to create an array of the integers from 30 to 70.\n",
    "4. Write a NumPy program to append values to the end of an array."
   ]
  },
  {
   "cell_type": "code",
   "execution_count": 8,
   "metadata": {},
   "outputs": [
    {
     "name": "stdout",
     "output_type": "stream",
     "text": [
      "[0 1 2 3 4 5 6 7 8 9]\n"
     ]
    }
   ],
   "source": [
    "# Create a 1D array of numbers from 0 to 9\n",
    "import numpy as np\n",
    "arr= np.array([0, 1, 2, 3, 4, 5, 6, 7, 8, 9])\n",
    "print(arr)"
   ]
  },
  {
   "cell_type": "code",
   "execution_count": 10,
   "metadata": {},
   "outputs": [
    {
     "name": "stdout",
     "output_type": "stream",
     "text": [
      "[[0 1 2 3 4]\n",
      " [5 6 7 8 9]]\n"
     ]
    }
   ],
   "source": [
    "# TASK 2\n",
    "# Convert a 1D array to a 2D array with 2 rows\n",
    "#Using 1D array above for the convert\n",
    "\n",
    "arr = np.array([0, 1, 2, 3, 4, 5, 6, 7, 8, 9])\n",
    "arr_2d = arr.reshape(2, 5)\n",
    "print(arr_2d)"
   ]
  },
  {
   "cell_type": "code",
   "execution_count": 11,
   "metadata": {},
   "outputs": [
    {
     "name": "stdout",
     "output_type": "stream",
     "text": [
      "Array of the integers from 30 to70\n",
      "[30 31 32 33 34 35 36 37 38 39 40 41 42 43 44 45 46 47 48 49 50 51 52 53\n",
      " 54 55 56 57 58 59 60 61 62 63 64 65 66 67 68 69 70]\n"
     ]
    }
   ],
   "source": [
    "# Write a NumPy program to create an array of the integers from 30 to 70.\n",
    "import numpy as np\n",
    "array=np.arange(30,71)\n",
    "print(\"Array of the integers from 30 to70\")\n",
    "print(array)\n"
   ]
  },
  {
   "cell_type": "code",
   "execution_count": 12,
   "metadata": {},
   "outputs": [
    {
     "name": "stdout",
     "output_type": "stream",
     "text": [
      "array:\n",
      "[1, 2, 3]\n",
      "New appended values to the end of the array:\n",
      "[1 2 3 4 5 6 7 8 9]\n"
     ]
    }
   ],
   "source": [
    "# Write a NumPy program to append values to the end of an array.\n",
    "import numpy as np\n",
    "y = [1, 2, 3]\n",
    "print(\"array:\")\n",
    "print(y)\n",
    "y = np.append(y, [[4, 5, 6], [7, 8, 9]])\n",
    "print(\"New appended values to the end of the array:\")\n",
    "print(y)"
   ]
  },
  {
   "cell_type": "markdown",
   "metadata": {},
   "source": [
    "Extension\n",
    "1. Write a NumPy program to find the number of rows and columns of a given matrix.\n",
    "2. Write a NumPy program to create an array of all the even integers from 30 to 70.\n",
    "3. Write a NumPy program to convert a list and tuple into arrays.\n",
    "4. Write a NumPy program to create a structured array from given student name, height, class and their data types. Now sort the array on height."
   ]
  },
  {
   "cell_type": "code",
   "execution_count": 2,
   "metadata": {},
   "outputs": [
    {
     "name": "stdout",
     "output_type": "stream",
     "text": [
      "matrix:\n",
      "[[ 1  2  3  4]\n",
      " [ 5  6  7  8]\n",
      " [ 9 10 11 12]]\n",
      "Number of rows and columns of matrix:\n",
      "(3, 4)\n"
     ]
    }
   ],
   "source": [
    "# Write a NumPy program to find the number of rows and columns of a given matrix.\n",
    "import numpy as np\n",
    "x= np.arange(1,13).reshape((3, 4))\n",
    "print( \"matrix:\")\n",
    "print(x)\n",
    "print(\"Number of rows and columns of matrix:\")\n",
    "print(x.shape)"
   ]
  },
  {
   "cell_type": "code",
   "execution_count": 4,
   "metadata": {},
   "outputs": [
    {
     "name": "stdout",
     "output_type": "stream",
     "text": [
      "Array of even integers from 30 to 70\n",
      "[30 32 34 36 38 40 42 44 46 48 50 52 54 56 58 60 62 64 66 68 70]\n"
     ]
    }
   ],
   "source": [
    "# Write a NumPy program to create an array of all the even integers from 30 to 70.\n",
    "import numpy as np\n",
    "array=np.arange(30,71,2)\n",
    "print(\"Array of even integers from 30 to 70\")\n",
    "print(array) "
   ]
  },
  {
   "cell_type": "code",
   "execution_count": 5,
   "metadata": {},
   "outputs": [
    {
     "name": "stdout",
     "output_type": "stream",
     "text": [
      "List to array: \n",
      "[10 20 30 40 50 60 70 80]\n",
      "Tuple to array: \n",
      "[[1 2 3]\n",
      " [4 6 8]]\n"
     ]
    }
   ],
   "source": [
    "# Write a NumPy program to convert a list and tuple into arrays.\n",
    "import numpy as np\n",
    "my_list = [10, 20, 30, 40, 50, 60, 70, 80]\n",
    "print(\"List to array: \")\n",
    "print(np.asarray(my_list))\n",
    "my_tuple = ([1, 2, 3], [4, 6, 8])\n",
    "print(\"Tuple to array: \")\n",
    "print(np.asarray(my_tuple))"
   ]
  },
  {
   "cell_type": "code",
   "execution_count": 6,
   "metadata": {},
   "outputs": [
    {
     "name": "stdout",
     "output_type": "stream",
     "text": [
      "Original array:\n",
      "[(b'Gina', 2, 50.5) (b'Craig', 4, 55.5) (b'Rick', 5, 48.1)\n",
      " (b'Rita', 3, 45.1)]\n",
      "Sort by height\n",
      "[(b'Rita', 3, 45.1) (b'Rick', 5, 48.1) (b'Gina', 2, 50.5)\n",
      " (b'Craig', 4, 55.5)]\n"
     ]
    }
   ],
   "source": [
    "# Write a NumPy program to create a structured array from given student name, height, class and their data types. Now sort the array on height.\n",
    "import numpy as np\n",
    "data_type = [('name', 'S15'), ('class', int), ('height', float)]\n",
    "students_details = [('Gina', 2, 50.5), ('Craig', 4, 55.5),('Rick', 5, 48.10), ('Rita', 3, 45.10)]\n",
    "# create a structured array\n",
    "students = np.array(students_details, dtype=data_type)   \n",
    "print(\"Original array:\")\n",
    "print(students)\n",
    "print(\"Sort by height\")\n",
    "print(np.sort(students, order='height'))   "
   ]
  },
  {
   "cell_type": "markdown",
   "metadata": {},
   "source": [
    "Task 2\n",
    "1. Write a NumPy program to add, subtract, multiply, divide arguments elementwise.\n",
    "2. Write a NumPy program to round elements of the array to the nearest integer.\n",
    "3. Write a NumPy program to get true division of the element-wise array inputs."
   ]
  },
  {
   "cell_type": "code",
   "execution_count": 7,
   "metadata": {},
   "outputs": [
    {
     "name": "stdout",
     "output_type": "stream",
     "text": [
      "Add:\n",
      "8.0\n",
      "Subtract:\n",
      "4.0\n",
      "Multiply:\n",
      "12.0\n",
      "Divide:\n",
      "3.0\n"
     ]
    }
   ],
   "source": [
    "# Write a NumPy program to add, subtract, multiply, divide arguments elementwise.\n",
    "import numpy as np\n",
    "print(\"Add:\")\n",
    "print(np.add(6.0, 2.0))\n",
    "print(\"Subtract:\")\n",
    "print(np.subtract(6.0, 2.0))\n",
    "print(\"Multiply:\")\n",
    "print(np.multiply(6.0, 2.0))\n",
    "print(\"Divide:\")\n",
    "print(np.divide(6.0, 2.0))\n"
   ]
  },
  {
   "cell_type": "code",
   "execution_count": 9,
   "metadata": {},
   "outputs": [
    {
     "name": "stdout",
     "output_type": "stream",
     "text": [
      "Original array:\n",
      "[ 0.6 -1.8  2.7  1.5 -1.7  2.6  1. ]\n",
      "Round elements of the array to the nearest integer:\n",
      "[ 1. -2.  3.  2. -2.  3.  1.]\n"
     ]
    }
   ],
   "source": [
    "# Write a NumPy program to round elements of the array to the nearest integer.\n",
    "import numpy as np\n",
    "x = np.array([.6, -1.8, 2.7, 1.5, -1.7, 2.6, 1.0])\n",
    "print(\"Original array:\")\n",
    "print(x)\n",
    "x = np.rint(x)\n",
    "print(\"Round elements of the array to the nearest integer:\")\n",
    "print(x)\n"
   ]
  },
  {
   "cell_type": "code",
   "execution_count": 10,
   "metadata": {},
   "outputs": [
    {
     "name": "stdout",
     "output_type": "stream",
     "text": [
      "array:\n",
      "[0 1 2 3 4 5 6 7 8 9]\n",
      "Division of the array inputs, element-wise:\n",
      "[0.         0.33333333 0.66666667 1.         1.33333333 1.66666667\n",
      " 2.         2.33333333 2.66666667 3.        ]\n"
     ]
    }
   ],
   "source": [
    "# Write a NumPy program to get true division of the element-wise array inputs.\n",
    "import numpy as np\n",
    "y = np.arange(10)\n",
    "print(\"array:\")\n",
    "print(y)\n",
    "print(\"Division of the array inputs, element-wise:\")\n",
    "print(np.true_divide(y, 3))\n"
   ]
  }
 ],
 "metadata": {
  "kernelspec": {
   "display_name": "Python 3.10.6 64-bit (windows store)",
   "language": "python",
   "name": "python3"
  },
  "language_info": {
   "codemirror_mode": {
    "name": "ipython",
    "version": 3
   },
   "file_extension": ".py",
   "mimetype": "text/x-python",
   "name": "python",
   "nbconvert_exporter": "python",
   "pygments_lexer": "ipython3",
   "version": "3.10.6"
  },
  "orig_nbformat": 4,
  "vscode": {
   "interpreter": {
    "hash": "70de8fb0f666d7d26395b890b58b1f0488b859c99dbf02eb86951344fe727d3f"
   }
  }
 },
 "nbformat": 4,
 "nbformat_minor": 2
}
